{
 "cells": [
  {
   "cell_type": "code",
   "execution_count": 29,
   "metadata": {},
   "outputs": [],
   "source": [
    "import rospy\n",
    "import pandas as pd"
   ]
  },
  {
   "cell_type": "code",
   "execution_count": 30,
   "metadata": {},
   "outputs": [],
   "source": [
    "import os"
   ]
  },
  {
   "cell_type": "code",
   "execution_count": 33,
   "metadata": {},
   "outputs": [],
   "source": [
    "with os.popen('rostopic list') as f:\n",
    "    files = f.readlines()\n",
    "df = pd.Series(list(map(lambda x:x.strip(),files)))"
   ]
  },
  {
   "cell_type": "code",
   "execution_count": 39,
   "metadata": {},
   "outputs": [
    {
     "data": {
      "text/plain": [
       "0                       /PressInfo\n",
       "1     /amcl/parameter_descriptions\n",
       "2          /amcl/parameter_updates\n",
       "3                       /amcl_pose\n",
       "4                     /batteryInfo\n",
       "                  ...             \n",
       "90                 /stm32TopicCtrl\n",
       "91                             /tf\n",
       "92                      /tf_static\n",
       "93           /visualization_marker\n",
       "94     /visualization_marker_array\n",
       "Length: 95, dtype: object"
      ]
     },
     "execution_count": 39,
     "metadata": {},
     "output_type": "execute_result"
    }
   ],
   "source": [
    "df"
   ]
  },
  {
   "cell_type": "code",
   "execution_count": 41,
   "metadata": {},
   "outputs": [
    {
     "data": {
      "text/plain": [
       "[['/rosout_agg', 'rosgraph_msgs/Log'],\n",
       " ['/rosout', 'rosgraph_msgs/Log'],\n",
       " ['/diagnostics', 'diagnostic_msgs/DiagnosticArray'],\n",
       " ['/encoderInfo', 'communicate_with_stm32/Encoderinfo'],\n",
       " ['/batteryInfo', 'communicate_with_stm32/BatteryInfo'],\n",
       " ['/PressInfo', 'communicate_with_stm32/Pressinfo'],\n",
       " ['/stm32TopicCtrl', 'communicate_with_stm32/MotorCmd'],\n",
       " ['/cmd_vel', 'geometry_msgs/Twist'],\n",
       " ['/scan', 'sensor_msgs/LaserScan'],\n",
       " ['/point_cloud', 'sensor_msgs/PointCloud'],\n",
       " ['/tf', 'tf2_msgs/TFMessage'],\n",
       " ['/odom', 'nav_msgs/Odometry'],\n",
       " ['/odom2ekf', 'nav_msgs/Odometry'],\n",
       " ['/tf_static', 'tf2_msgs/TFMessage'],\n",
       " ['/map_metadata', 'nav_msgs/MapMetaData'],\n",
       " ['/map', 'nav_msgs/OccupancyGrid'],\n",
       " ['/robot_pose_ekf/odom_combined', 'geometry_msgs/PoseWithCovarianceStamped'],\n",
       " ['/move_base/current_goal', 'geometry_msgs/PoseStamped'],\n",
       " ['/move_base/goal', 'move_base_msgs/MoveBaseActionGoal'],\n",
       " ['/move_base/recovery_status', 'move_base_msgs/RecoveryStatus'],\n",
       " ['/amcl_pose', 'geometry_msgs/PoseWithCovarianceStamped'],\n",
       " ['/particlecloud', 'geometry_msgs/PoseArray'],\n",
       " ['/amcl/parameter_descriptions', 'dynamic_reconfigure/ConfigDescription'],\n",
       " ['/amcl/parameter_updates', 'dynamic_reconfigure/Config'],\n",
       " ['/joint_states', 'sensor_msgs/JointState'],\n",
       " ['/imu', 'sensor_msgs/Imu'],\n",
       " ['/camera/left/image_raw/compressedDepth', 'sensor_msgs/CompressedImage'],\n",
       " ['/camera/left/image_raw/compressedDepth/parameter_descriptions',\n",
       "  'dynamic_reconfigure/ConfigDescription'],\n",
       " ['/camera/left/image_raw/compressedDepth/parameter_updates',\n",
       "  'dynamic_reconfigure/Config'],\n",
       " ['/camera/left/image_raw/compressed', 'sensor_msgs/CompressedImage'],\n",
       " ['/camera/left/image_raw/compressed/parameter_descriptions',\n",
       "  'dynamic_reconfigure/ConfigDescription'],\n",
       " ['/camera/left/image_raw/compressed/parameter_updates',\n",
       "  'dynamic_reconfigure/Config'],\n",
       " ['/camera/left/image_raw', 'sensor_msgs/Image'],\n",
       " ['/camera/left/image_raw/theora', 'theora_image_transport/Packet'],\n",
       " ['/camera/left/image_raw/theora/parameter_descriptions',\n",
       "  'dynamic_reconfigure/ConfigDescription'],\n",
       " ['/camera/left/image_raw/theora/parameter_updates',\n",
       "  'dynamic_reconfigure/Config'],\n",
       " ['/camera/right/image_raw/compressedDepth', 'sensor_msgs/CompressedImage'],\n",
       " ['/camera/right/image_raw/compressedDepth/parameter_descriptions',\n",
       "  'dynamic_reconfigure/ConfigDescription'],\n",
       " ['/camera/right/image_raw/compressedDepth/parameter_updates',\n",
       "  'dynamic_reconfigure/Config'],\n",
       " ['/camera/right/image_raw/compressed', 'sensor_msgs/CompressedImage'],\n",
       " ['/camera/right/image_raw/compressed/parameter_descriptions',\n",
       "  'dynamic_reconfigure/ConfigDescription'],\n",
       " ['/camera/right/image_raw/compressed/parameter_updates',\n",
       "  'dynamic_reconfigure/Config'],\n",
       " ['/camera/right/image_raw', 'sensor_msgs/Image'],\n",
       " ['/camera/right/image_raw/theora', 'theora_image_transport/Packet'],\n",
       " ['/camera/right/image_raw/theora/parameter_descriptions',\n",
       "  'dynamic_reconfigure/ConfigDescription'],\n",
       " ['/camera/right/image_raw/theora/parameter_updates',\n",
       "  'dynamic_reconfigure/Config'],\n",
       " ['/camera/left/camera_info', 'sensor_msgs/CameraInfo'],\n",
       " ['/camera/right/camera_info', 'sensor_msgs/CameraInfo'],\n",
       " ['/rviz/compressed/parameter_descriptions',\n",
       "  'dynamic_reconfigure/ConfigDescription'],\n",
       " ['/rviz/compressed/parameter_updates', 'dynamic_reconfigure/Config'],\n",
       " ['/initialpose', 'geometry_msgs/PoseWithCovarianceStamped'],\n",
       " ['/move_base_simple/goal_temp', 'geometry_msgs/PoseStamped'],\n",
       " ['/clicked_point', 'geometry_msgs/PointStamped'],\n",
       " ['/move_base_simple/goal', 'geometry_msgs/PoseStamped'],\n",
       " ['/move_base/cancel', 'actionlib_msgs/GoalID'],\n",
       " ['/visualization_marker', 'visualization_msgs/Marker'],\n",
       " ['/move_base/global_costmap/static_layer/parameter_descriptions',\n",
       "  'dynamic_reconfigure/ConfigDescription'],\n",
       " ['/move_base/global_costmap/static_layer/parameter_updates',\n",
       "  'dynamic_reconfigure/Config'],\n",
       " ['/move_base/global_costmap/obstacle_layer/parameter_descriptions',\n",
       "  'dynamic_reconfigure/ConfigDescription'],\n",
       " ['/move_base/global_costmap/obstacle_layer/parameter_updates',\n",
       "  'dynamic_reconfigure/Config'],\n",
       " ['/move_base/global_costmap/obstacle_layer/clearing_endpoints',\n",
       "  'sensor_msgs/PointCloud'],\n",
       " ['/move_base/global_costmap/global_inflation_layer/parameter_descriptions',\n",
       "  'dynamic_reconfigure/ConfigDescription'],\n",
       " ['/move_base/global_costmap/global_inflation_layer/parameter_updates',\n",
       "  'dynamic_reconfigure/Config'],\n",
       " ['/move_base/global_costmap/footprint', 'geometry_msgs/PolygonStamped'],\n",
       " ['/move_base/global_costmap/costmap', 'nav_msgs/OccupancyGrid'],\n",
       " ['/move_base/global_costmap/costmap_updates', 'map_msgs/OccupancyGridUpdate'],\n",
       " ['/move_base/global_costmap/parameter_descriptions',\n",
       "  'dynamic_reconfigure/ConfigDescription'],\n",
       " ['/move_base/global_costmap/parameter_updates', 'dynamic_reconfigure/Config'],\n",
       " ['/move_base/GlobalPlanner/plan', 'nav_msgs/Path'],\n",
       " ['/move_base/GlobalPlanner/potential', 'nav_msgs/OccupancyGrid'],\n",
       " ['/move_base/GlobalPlanner/parameter_descriptions',\n",
       "  'dynamic_reconfigure/ConfigDescription'],\n",
       " ['/move_base/GlobalPlanner/parameter_updates', 'dynamic_reconfigure/Config'],\n",
       " ['/move_base/local_costmap/obstacle_layer/parameter_descriptions',\n",
       "  'dynamic_reconfigure/ConfigDescription'],\n",
       " ['/move_base/local_costmap/obstacle_layer/parameter_updates',\n",
       "  'dynamic_reconfigure/Config'],\n",
       " ['/move_base/local_costmap/obstacle_layer/clearing_endpoints',\n",
       "  'sensor_msgs/PointCloud'],\n",
       " ['/move_base/local_costmap/local_inflation_layer/parameter_descriptions',\n",
       "  'dynamic_reconfigure/ConfigDescription'],\n",
       " ['/move_base/local_costmap/local_inflation_layer/parameter_updates',\n",
       "  'dynamic_reconfigure/Config'],\n",
       " ['/move_base/local_costmap/footprint', 'geometry_msgs/PolygonStamped'],\n",
       " ['/move_base/local_costmap/costmap', 'nav_msgs/OccupancyGrid'],\n",
       " ['/move_base/local_costmap/costmap_updates', 'map_msgs/OccupancyGridUpdate'],\n",
       " ['/move_base/local_costmap/parameter_descriptions',\n",
       "  'dynamic_reconfigure/ConfigDescription'],\n",
       " ['/move_base/local_costmap/parameter_updates', 'dynamic_reconfigure/Config'],\n",
       " ['/move_base/DWAPlannerROS/global_plan', 'nav_msgs/Path'],\n",
       " ['/move_base/DWAPlannerROS/local_plan', 'nav_msgs/Path'],\n",
       " ['/move_base/DWAPlannerROS/cost_cloud', 'sensor_msgs/PointCloud2'],\n",
       " ['/move_base/DWAPlannerROS/trajectory_cloud', 'sensor_msgs/PointCloud2'],\n",
       " ['/move_base/DWAPlannerROS/parameter_descriptions',\n",
       "  'dynamic_reconfigure/ConfigDescription'],\n",
       " ['/move_base/DWAPlannerROS/parameter_updates', 'dynamic_reconfigure/Config'],\n",
       " ['/move_base/result', 'move_base_msgs/MoveBaseActionResult'],\n",
       " ['/move_base/feedback', 'move_base_msgs/MoveBaseActionFeedback'],\n",
       " ['/move_base/status', 'actionlib_msgs/GoalStatusArray'],\n",
       " ['/move_base/parameter_descriptions',\n",
       "  'dynamic_reconfigure/ConfigDescription'],\n",
       " ['/move_base/parameter_updates', 'dynamic_reconfigure/Config']]"
      ]
     },
     "execution_count": 41,
     "metadata": {},
     "output_type": "execute_result"
    }
   ],
   "source": [
    "rospy.client.get_published_topics()"
   ]
  },
  {
   "cell_type": "code",
   "execution_count": 51,
   "metadata": {},
   "outputs": [
    {
     "data": {
      "text/plain": [
       "0            /turtle1/pose\n",
       "1    /turtle1/color_sensor\n",
       "Name: 0, dtype: object"
      ]
     },
     "execution_count": 51,
     "metadata": {},
     "output_type": "execute_result"
    }
   ],
   "source": [
    "pd.DataFrame(rospy.get_published_topics('turtle1')).iloc[:,0]"
   ]
  },
  {
   "cell_type": "code",
   "execution_count": 57,
   "metadata": {},
   "outputs": [
    {
     "name": "stdout",
     "output_type": "stream",
     "text": [
      "5.96 ms ± 269 µs per loop (mean ± std. dev. of 7 runs, 100 loops each)\n"
     ]
    }
   ],
   "source": [
    "%timeit list(map(lambda x:x[0],rospy.get_published_topics()))"
   ]
  },
  {
   "cell_type": "code",
   "execution_count": 58,
   "metadata": {},
   "outputs": [
    {
     "name": "stdout",
     "output_type": "stream",
     "text": [
      "7.08 ms ± 120 µs per loop (mean ± std. dev. of 7 runs, 100 loops each)\n"
     ]
    }
   ],
   "source": [
    "%timeit pd.DataFrame(rospy.get_published_topics()).iloc[:,0]"
   ]
  },
  {
   "cell_type": "code",
   "execution_count": 61,
   "metadata": {},
   "outputs": [],
   "source": [
    "topic_all = list(map(lambda x:x[0],rospy.get_published_topics()))"
   ]
  },
  {
   "cell_type": "code",
   "execution_count": 59,
   "metadata": {},
   "outputs": [],
   "source": [
    "sensor_topic_name_serial = pd.Series(\n",
    "            ['/PressInfo', '/batteryInfo', '/camera/left/camera_info', '/imu', '/odom', '/scan'])\n"
   ]
  },
  {
   "cell_type": "code",
   "execution_count": 65,
   "metadata": {},
   "outputs": [
    {
     "data": {
      "text/plain": [
       "True"
      ]
     },
     "execution_count": 65,
     "metadata": {},
     "output_type": "execute_result"
    }
   ],
   "source": [
    "sensor_topic_name_serial.isin(topic_all)[2]"
   ]
  },
  {
   "cell_type": "code",
   "execution_count": null,
   "metadata": {},
   "outputs": [],
   "source": []
  }
 ],
 "metadata": {
  "kernelspec": {
   "display_name": "Python 3.8.10 64-bit",
   "language": "python",
   "name": "python3"
  },
  "language_info": {
   "codemirror_mode": {
    "name": "ipython",
    "version": 3
   },
   "file_extension": ".py",
   "mimetype": "text/x-python",
   "name": "python",
   "nbconvert_exporter": "python",
   "pygments_lexer": "ipython3",
   "version": "3.8.10"
  },
  "orig_nbformat": 4,
  "vscode": {
   "interpreter": {
    "hash": "e7370f93d1d0cde622a1f8e1c04877d8463912d04d973331ad4851f04de6915a"
   }
  }
 },
 "nbformat": 4,
 "nbformat_minor": 2
}
